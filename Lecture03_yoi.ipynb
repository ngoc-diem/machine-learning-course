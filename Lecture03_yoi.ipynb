{
  "nbformat": 4,
  "nbformat_minor": 0,
  "metadata": {
    "colab": {
      "name": "Lecture03.ipynb",
      "provenance": [],
      "collapsed_sections": [],
      "authorship_tag": "ABX9TyOfb+vN91cEadHWe0zoJZse",
      "include_colab_link": true
    },
    "kernelspec": {
      "name": "python3",
      "display_name": "Python 3"
    }
  },
  "cells": [
    {
      "cell_type": "markdown",
      "metadata": {
        "id": "view-in-github",
        "colab_type": "text"
      },
      "source": [
        "<a href=\"https://colab.research.google.com/github/ngoc-diem/machine-learning-course/blob/master/Lecture03_yoi.ipynb\" target=\"_parent\"><img src=\"https://colab.research.google.com/assets/colab-badge.svg\" alt=\"Open In Colab\"/></a>"
      ]
    },
    {
      "cell_type": "markdown",
      "metadata": {
        "id": "cauXS2-BMwsG"
      },
      "source": [
        "## Homework 3: Logistics Regression\n",
        "## Implement everywhere that has an ellipsis (...)."
      ]
    },
    {
      "cell_type": "code",
      "metadata": {
        "id": "R2HkBE6zMl-v"
      },
      "source": [
        "import numpy as np\n",
        "import matplotlib.pyplot as plt"
      ],
      "execution_count": null,
      "outputs": []
    },
    {
      "cell_type": "code",
      "metadata": {
        "id": "nAGFKiouNB9t"
      },
      "source": [
        "from sklearn.datasets import load_iris\n",
        "data = load_iris()\n",
        "X, Y = data.data, data.target"
      ],
      "execution_count": 341,
      "outputs": []
    },
    {
      "cell_type": "code",
      "metadata": {
        "id": "XYDJDpRESFyY"
      },
      "source": [
        "idx = Y>0\n",
        "X=X[idx,:]\n",
        "Y=Y[idx]"
      ],
      "execution_count": 342,
      "outputs": []
    },
    {
      "cell_type": "code",
      "metadata": {
        "id": "5Y1kfEdQSVF0"
      },
      "source": [
        "def z_score(x):\n",
        "  sig = np.std(x.T)\n",
        "  u = np.mean(x.T)\n",
        "  z = (x - u)/sig\n",
        "  return z\n",
        "for i in range(0,4):\n",
        "  X[:,i] = z_score(X[:,i])\n",
        "Y = Y-1\n"
      ],
      "execution_count": 343,
      "outputs": []
    },
    {
      "cell_type": "code",
      "metadata": {
        "id": "wh0U9iyG9rmp"
      },
      "source": [
        "X = np.concatenate((np.ones((Y.size, 1)), X), axis = 1)\n"
      ],
      "execution_count": 344,
      "outputs": []
    },
    {
      "cell_type": "markdown",
      "metadata": {
        "id": "rlAZiLD3S26N"
      },
      "source": [
        "# Define classification model\n",
        "Create parameters here. Initialize with zeros. In case you forgot: $Y = \\sigma(X\\Theta)$.[link text](https://)"
      ]
    },
    {
      "cell_type": "code",
      "metadata": {
        "id": "324tuu91S2Mp"
      },
      "source": [
        "weight = np.zeros(X.shape[1])"
      ],
      "execution_count": 345,
      "outputs": []
    },
    {
      "cell_type": "code",
      "metadata": {
        "id": "-v43STiwU11A"
      },
      "source": [
        "def accuracy(X, Y, weight):\n",
        "  y = []\n",
        "  Z = X @ weight\n",
        "  for x in 1/(1+np.exp(-Z)):\n",
        "    if x > 0.5:\n",
        "      y.append(1)\n",
        "    else:\n",
        "      y.append(0)\n",
        "  return float(np.sum(Y == y))/(Y.size)\n",
        "    # implement your code here"
      ],
      "execution_count": 346,
      "outputs": []
    },
    {
      "cell_type": "code",
      "metadata": {
        "id": "VUddOBwyyptu"
      },
      "source": [
        "# learning rate\n",
        "alpha = 1e-2\n",
        "# epochs\n",
        "epoch = 10000"
      ],
      "execution_count": 347,
      "outputs": []
    },
    {
      "cell_type": "markdown",
      "metadata": {
        "id": "LvzQHCDG_2x0"
      },
      "source": [
        "Train the model.¶"
      ]
    },
    {
      "cell_type": "code",
      "metadata": {
        "id": "FldhQpSeaNee"
      },
      "source": [
        "def sigmoid(z):\n",
        "  return 1/(1+np.exp(-z))\n",
        "def loss_func(X,Y,weight):\n",
        "  z = X @ weight\n",
        "  h = sigmoid(z)\n",
        "  l = -np.sum(Y*np.log(h)+(1-Y)*np.log(1-h))/(Y.size)\n",
        "  return l"
      ],
      "execution_count": 348,
      "outputs": []
    },
    {
      "cell_type": "code",
      "metadata": {
        "colab": {
          "base_uri": "https://localhost:8080/"
        },
        "id": "AxSStvhRgZ01",
        "outputId": "a8b0df8f-9a25-452e-bbd3-f7e66a643eae"
      },
      "source": [
        "  for _ in range(epoch):\n",
        "    w = np.dot(X.T, sigmoid(X @ weight) - Y)/(Y.size)\n",
        "    weight -= alpha*w\n",
        "print(weight)"
      ],
      "execution_count": 349,
      "outputs": [
        {
          "output_type": "stream",
          "text": [
            "[ 0.12047504 -0.44156746 -0.89309501  2.965364    3.3427994 ]\n"
          ],
          "name": "stdout"
        }
      ]
    },
    {
      "cell_type": "code",
      "metadata": {
        "id": "QZnjqiQtyxAT"
      },
      "source": [
        "# just to double check\n",
        "assert np.allclose(weight, np.array([0.12047504, -0.44156746, -0.89309501, 2.965364, 3.3427994]))"
      ],
      "execution_count": 350,
      "outputs": []
    },
    {
      "cell_type": "code",
      "metadata": {
        "id": "WNWnLK8Jy0St",
        "colab": {
          "base_uri": "https://localhost:8080/"
        },
        "outputId": "f9e4d6f1-22c1-41fa-fef9-357ccb601c2f"
      },
      "source": [
        "# model accuracy\n",
        "accuracy(X, Y, weight)\n"
      ],
      "execution_count": 351,
      "outputs": [
        {
          "output_type": "execute_result",
          "data": {
            "text/plain": [
              "0.96"
            ]
          },
          "metadata": {
            "tags": []
          },
          "execution_count": 351
        }
      ]
    },
    {
      "cell_type": "code",
      "metadata": {
        "id": "unwVXWw_y3zM"
      },
      "source": [
        "# do some fun code here and try to match this :)\n"
      ],
      "execution_count": null,
      "outputs": []
    },
    {
      "cell_type": "code",
      "metadata": {
        "id": "XqcIFD6Vy66Q",
        "colab": {
          "base_uri": "https://localhost:8080/"
        },
        "outputId": "326436d9-15cc-4b64-a49d-e9c3d5765f2f"
      },
      "source": [
        "print('Weights:', weight)\n",
        "y = 1 / (1 + np.exp(-X @ weight))\n",
        "loss = -np.sum(Y * np.log(y) + (1 - Y) * np.log(1 - y)) / y.size\n",
        "print('Loss:', loss)\n",
        "print('Accuracy:', accuracy(X, Y, weight))"
      ],
      "execution_count": null,
      "outputs": [
        {
          "output_type": "stream",
          "text": [
            "Weights: [ 0.12047504 -0.44156746 -0.89309501  2.965364    3.3427994 ]\n",
            "Loss: 0.08662719407135402\n",
            "Accuracy: 0.96\n"
          ],
          "name": "stdout"
        }
      ]
    }
  ]
}