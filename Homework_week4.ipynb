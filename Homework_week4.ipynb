{
  "nbformat": 4,
  "nbformat_minor": 0,
  "metadata": {
    "colab": {
      "name": "Homework_week4.ipynb",
      "provenance": [],
      "collapsed_sections": [],
      "authorship_tag": "ABX9TyMlZ/FtJ8RBMJW0ymc+lYds",
      "include_colab_link": true
    },
    "kernelspec": {
      "name": "python3",
      "display_name": "Python 3"
    }
  },
  "cells": [
    {
      "cell_type": "markdown",
      "metadata": {
        "id": "view-in-github",
        "colab_type": "text"
      },
      "source": [
        "<a href=\"https://colab.research.google.com/github/ngoc-diem/machine-learning-course/blob/master/Homework_week4.ipynb\" target=\"_parent\"><img src=\"https://colab.research.google.com/assets/colab-badge.svg\" alt=\"Open In Colab\"/></a>"
      ]
    },
    {
      "cell_type": "code",
      "metadata": {
        "id": "v7kNQaSHWoJ1"
      },
      "source": [
        "# load our dataset\r\n",
        "from sklearn.datasets import load_iris\r\n",
        "data = load_iris()\r\n",
        "X, Y = data['data'], data['target']"
      ],
      "execution_count": null,
      "outputs": []
    },
    {
      "cell_type": "code",
      "metadata": {
        "id": "owUJQ2eLW-aZ"
      },
      "source": [
        "# split our data into training and testing set with 90:10 ratio\r\n",
        "# use a fixed random state for reproducible results\r\n",
        "from sklearn.model_selection import train_test_split\r\n",
        "x_train, x_test, y_train, y_test = train_test_split(X, Y, test_size=0.1, random_state=42)"
      ],
      "execution_count": null,
      "outputs": []
    },
    {
      "cell_type": "code",
      "metadata": {
        "id": "X55Jbce1XCth"
      },
      "source": [
        "# z-score normalization.\r\n",
        "# Remember to scale the training and test set separately to avoid data snooping.\r\n",
        "# We use the training set's mu and sigma for the test set.\r\n",
        "from sklearn.preprocessing import StandardScaler\r\n",
        "scaler = StandardScaler()\r\n",
        "scaler.fit(x_train)\r\n",
        "x_train = scaler.transform(x_train)\r\n",
        "x_test = scaler.transform(x_test)"
      ],
      "execution_count": null,
      "outputs": []
    },
    {
      "cell_type": "code",
      "metadata": {
        "id": "jYXgJ_cjXFwV"
      },
      "source": [
        "import numpy as np\r\n",
        "from collections import Counter\r\n",
        "# Remember, no training is needed for KNN!\r\n",
        "def evaluateKNN_single(k, x_train, y_train, data):\r\n",
        "    '''\r\n",
        "    Evaluate the classification for `data` with k-nearest neighbor\r\n",
        "    given training set (x_train, y_train).\r\n",
        "\r\n",
        "    Note that this function takes in one input instead of the whole\r\n",
        "    testing set.\r\n",
        "    \r\n",
        "    Input:\r\n",
        "        k      : hyperparameter for KNN\r\n",
        "        x_train: features of training set\r\n",
        "        y_train: labels of training set\r\n",
        "        data   : features of the data point to be evaluated\r\n",
        "    Output:\r\n",
        "        Classification of the input data point.\r\n",
        "    '''\r\n",
        "    \r\n",
        "    # IMPLEMENT HERE\r\n",
        "    distances = []\r\n",
        "    for i in range(x_train.shape[0]):\r\n",
        "    \r\n",
        "        euclidean_distance = np.sqrt( np.sum((x_train[i]-data)** 2))\r\n",
        "        distances.append([euclidean_distance,y_train[i]]) \r\n",
        "    distances = sorted(distances)\r\n",
        "    votes = np.array(distances)[:k,1]\r\n",
        "    vote_result = Counter(votes).most_common(1)[0][0]  \r\n",
        "    return int(vote_result)\r\n",
        "    \r\n"
      ],
      "execution_count": null,
      "outputs": []
    },
    {
      "cell_type": "code",
      "metadata": {
        "id": "x13qchkXXN2T"
      },
      "source": [
        "# Evaluation code for the whole dataset\r\n",
        "def evaluateKNN(k, x_train=x_train, y_train=y_train, x_test=x_test, y_test=y_test):\r\n",
        "    correct = sum(map(lambda x: evaluateKNN_single(k, x_train, y_train, x[0]) == x[1], zip(x_test, y_test)))\r\n",
        "    print(f'Test accuracy with k={k}: {correct/len(y_test)*100:.4f}% ({correct}/{len(y_test)})')\r\n",
        "    # return the number of correct evaluations for us to check with the solution\r\n",
        "    return correct"
      ],
      "execution_count": null,
      "outputs": []
    },
    {
      "cell_type": "code",
      "metadata": {
        "colab": {
          "base_uri": "https://localhost:8080/"
        },
        "id": "loi6GeNDXQ1e",
        "outputId": "dc9a32d1-c29a-4465-bf7f-ee22cf13f3f3"
      },
      "source": [
        "# and let's see how good is our model with k=5\r\n",
        "assert evaluateKNN(5) == len(y_test), \"Incorrect accuracy for 5-NN!\""
      ],
      "execution_count": null,
      "outputs": [
        {
          "output_type": "stream",
          "text": [
            "Test accuracy with k=5: 100.0000% (15/15)\n"
          ],
          "name": "stdout"
        }
      ]
    },
    {
      "cell_type": "code",
      "metadata": {
        "colab": {
          "base_uri": "https://localhost:8080/"
        },
        "id": "QikBdlOIXU65",
        "outputId": "192700f4-bea3-4d4c-b26e-0667206613bc"
      },
      "source": [
        "# What if we use 1-NN?\r\n",
        "assert evaluateKNN(1) == len(y_test) - 1, \"Incorrect accuracy for 1-NN!\""
      ],
      "execution_count": null,
      "outputs": [
        {
          "output_type": "stream",
          "text": [
            "Test accuracy with k=1: 93.3333% (14/15)\n"
          ],
          "name": "stdout"
        }
      ]
    },
    {
      "cell_type": "code",
      "metadata": {
        "id": "ztBUa56cXYOZ"
      },
      "source": [
        "def get_cluster_classification(x_data, centroids):\r\n",
        "    '''\r\n",
        "    A helper function that you will need later.\r\n",
        "    Classifies the points to their nearest cluster.\r\n",
        "    \r\n",
        "    Input:\r\n",
        "        x_data   : the data points\r\n",
        "        centroids: the cluster centroids\r\n",
        "    Output:\r\n",
        "        The centroid numbers that each data point belongs to (i.e. is nearest)\r\n",
        "    '''\r\n",
        "    \r\n",
        "    # IMPLEMENT HERE\r\n",
        "    y = np.zeros(x_data.shape[0])\r\n",
        "    for i in range(x_data.shape[0]):\r\n",
        "        d = x_data[i] - centroids\r\n",
        "        d = np.linalg.norm(d, axis=1)\r\n",
        "        y[i] = np.argmin(d)\r\n",
        "\r\n",
        "    return y\r\n"
      ],
      "execution_count": null,
      "outputs": []
    },
    {
      "cell_type": "code",
      "metadata": {
        "id": "qmrLE8nq0XC0"
      },
      "source": [
        "def kmeans(x_train, k, step,centroids = None):\r\n",
        "    '''\r\n",
        "    An implementation of K-means clustering.\r\n",
        "    \r\n",
        "    Input:\r\n",
        "        k      : number of clusters\r\n",
        "        x_train: training dataset\r\n",
        "        step   : number of recaliberation steps\r\n",
        "    Output:\r\n",
        "        The centroids of the clusters (a k x d matrix)\r\n",
        "    '''\r\n",
        "    \r\n",
        "    # IMPLEMENT HERE\r\n",
        "    \r\n",
        "    if centroids is None: centroids = x_train[:k]\r\n",
        "    \r\n",
        "    for i in range(step):\r\n",
        "        clusters = get_cluster_classification(x_train, centroids)\r\n",
        "        new_centroids = np.array([np.mean(x_train[clusters == j], axis = 0) for j in range(k)])\r\n",
        "        if np.allclose(new_centroids, centroids): break\r\n",
        "        centroids = new_centroids\r\n",
        "    return centroids"
      ],
      "execution_count": null,
      "outputs": []
    },
    {
      "cell_type": "code",
      "metadata": {
        "id": "dmd1Vbrz0ZeS"
      },
      "source": [
        "# we know that there are three classes\r\n",
        "centroids = kmeans(x_train, k=3, step=10)\r\n",
        "assert np.allclose(centroids, np.array([\r\n",
        "    [-1.02028733,  0.90854287, -1.32521428, -1.27540932],\r\n",
        "    [ 0.99363929,  0.01896468,  0.90355632,  0.92076921],\r\n",
        "    [-0.22539812, -1.02749927,  0.23322382,  0.15491878]\r\n",
        "])), \"Incorrect centroids for K-means!\""
      ],
      "execution_count": null,
      "outputs": []
    },
    {
      "cell_type": "code",
      "metadata": {
        "id": "gAYzbXflUqyf"
      },
      "source": [
        "\r\n",
        "def kmeanspp(x_train, k, step):\r\n",
        "    '''\r\n",
        "    An implementation of K-means++ clustering.\r\n",
        "    \r\n",
        "    Input:\r\n",
        "        k      : number of clusters\r\n",
        "        x_train: training dataset\r\n",
        "        step   : number of recaliberation steps\r\n",
        "    Output:\r\n",
        "        The centroids of the clusters (a k x d matrix)\r\n",
        "    '''\r\n",
        "    # initialize the centroids according to the above criteria\r\n",
        "    \r\n",
        "    # IMPLEMENT HERE\r\n",
        "    ...\r\n",
        "    \r\n",
        "    # the rest should be identical to kmeans()\r\n",
        "    \r\n",
        "    # IMPLEMENT HERE\r\n",
        "    centroids = [x_train[3]]\r\n",
        "    for i in range(k-1):\r\n",
        "        distances = np.array([np.sqrt(((np.array(centroids) - x_i)**2).sum(axis = 1)).tolist() for x_i in x_train])\r\n",
        "        dist_min = np.min(distances, axis = 1)\r\n",
        "        index_max = np.argsort(dist_min)[-4]\r\n",
        "        centroids.append(x_train[index_max, :].tolist()) \r\n",
        "        \r\n",
        "    return kmeans(x_train, k, step, centroids)"
      ],
      "execution_count": null,
      "outputs": []
    },
    {
      "cell_type": "code",
      "metadata": {
        "id": "HU9jVAzHU0P2"
      },
      "source": [
        "# now check if you did it correctly.\r\n",
        "centroidspp = kmeanspp(x_train, k=3, step=10)\r\n",
        "assert np.allclose(centroidspp, np.array([\r\n",
        "    [-0.0118057 , -0.87997489,  0.36942197,  0.30573876],\r\n",
        "    [ 1.15200055,  0.18878042,  0.98903982,  1.01136932],\r\n",
        "    [-1.03358934,  0.84835232, -1.32732076, -1.27380566]\r\n",
        "])), \"Incorrect centroids for K-means++!\""
      ],
      "execution_count": null,
      "outputs": []
    },
    {
      "cell_type": "code",
      "metadata": {
        "id": "UiIthh1UfoJF"
      },
      "source": [
        "def get_cluster_label(centroids, x_train, y_train):\r\n",
        "    '''\r\n",
        "    Get the classification for each cluster using training set.\r\n",
        "    \r\n",
        "    Input:\r\n",
        "        centroids: the centroids of the clusters\r\n",
        "        x_train  : features of training set\r\n",
        "        y_train  : labels of training set\r\n",
        "    Output:\r\n",
        "        The classifications for the clusters.\r\n",
        "    '''\r\n",
        "    # remember to return a numpy array instead of a Python list!\r\n",
        "    \r\n",
        "    # IMPLEMENT HERE\r\n",
        "    clusters = get_cluster_classification(x_train, centroids)\r\n",
        "    return np.array([Counter(y_train[clusters == i]).most_common(1)[0][0] for i in range(len(centroids))])\r\n"
      ],
      "execution_count": null,
      "outputs": []
    },
    {
      "cell_type": "code",
      "metadata": {
        "id": "yAfmrC1Wfo7Y"
      },
      "source": [
        "labels = get_cluster_label(centroids, x_train, y_train)\r\n",
        "labelspp = get_cluster_label(centroidspp, x_train, y_train)\r\n",
        "# each cluster nicely belongs to a different class\r\n",
        "assert (labels == [0, 2, 1]).all(), \"Incorrect K-means cluster label(s)!\"\r\n",
        "assert (labelspp == [1, 2, 0]).all(), \"Incorrect K-means++ cluster label(s)!\""
      ],
      "execution_count": null,
      "outputs": []
    },
    {
      "cell_type": "code",
      "metadata": {
        "id": "cPOlAU3Cfryo"
      },
      "source": [
        "def evaluate_kmeans_classification(centroids, labels, x_data):\r\n",
        "    '''\r\n",
        "    Get the classification for each data point using centroid labels.\r\n",
        "    \r\n",
        "    Input:\r\n",
        "        centroids: the centroids of the clusters\r\n",
        "        labels   : the labels for the clusters\r\n",
        "        x_data   : the data to be classified\r\n",
        "    Output:\r\n",
        "        The classifications for the data.\r\n",
        "    '''\r\n",
        "    \r\n",
        "    # IMPLEMENT HERE\r\n",
        "    distances = np.array([np.sqrt(((np.array(centroids) - x_i)**2).sum(axis = 1)).tolist() for x_i in x_data])\r\n",
        "    min_centroids = np.argmin(distances, axis = 1)\r\n",
        "    return np.array([labels[i] for i in min_centroids])\r\n"
      ],
      "execution_count": null,
      "outputs": []
    },
    {
      "cell_type": "code",
      "metadata": {
        "id": "arvP_RrLfwTP"
      },
      "source": [
        "# evaluate the classifications\r\n",
        "y_train_pred = evaluate_kmeans_classification(centroids, labels, x_train)\r\n",
        "y_test_pred = evaluate_kmeans_classification(centroids, labels, x_test)\r\n",
        "y_train_pred_pp = evaluate_kmeans_classification(centroidspp, labelspp, x_train)\r\n",
        "y_test_pred_pp = evaluate_kmeans_classification(centroidspp, labelspp, x_test)\r\n",
        "\r\n",
        "# and check for correctness\r\n",
        "assert (y_train_pred == [2, 2, 1, 1, 2, 0, 2, 0, 2, 2, 2, 2, 2, 0, 0, 0, 0, 2, 0, 0, 1, 2, 0, 0, 0, 1, 2, 2, 0, 0, 1, 2, 2, 2, 2, 1, 2, 1, 0, 2, 1, 0, 0, 0, 1, 2, 0, 0, 0, 1, 0, 1, 2, 0, 1, 1, 0, 2, 1, 1, 1, 2, 1, 0, 1, 2, 0, 0, 1, 2, 0, 2, 0, 0, 2, 1, 2, 1, 1, 2, 1, 0, 0, 1, 2, 0, 0, 0, 1, 2, 0, 2, 2, 0, 1, 2, 2, 2, 2, 0, 2, 1, 2, 1, 1, 2, 1, 2, 1, 0, 1, 2, 2, 0, 1, 2, 2, 0, 2, 0, 2, 2, 2, 1, 2, 1, 2, 1, 2, 0, 1, 1, 0, 1, 2]).all()\r\n",
        "assert (y_test_pred == [1, 0, 2, 1, 2, 0, 1, 2, 1, 1, 2, 0, 0, 0, 0]).all()\r\n",
        "assert (y_train_pred_pp == [2, 2, 1, 1, 2, 0, 1, 0, 2, 2, 2, 1, 2, 0, 0, 0, 0, 2, 0, 0, 1, 2, 0, 0, 0, 1, 2, 2, 0, 0, 1, 1, 2, 2, 2, 1, 2, 1, 0, 2, 1, 0, 0, 0, 1, 1, 0, 0, 0, 1, 0, 1, 2, 0, 1, 1, 0, 1, 1, 1, 1, 2, 1, 0, 1, 1, 0, 0, 1, 2, 0, 1, 0, 0, 2, 1, 2, 1, 1, 2, 1, 0, 0, 1, 2, 0, 0, 0, 1, 2, 0, 2, 2, 0, 1, 1, 1, 2, 2, 0, 2, 1, 2, 1, 1, 1, 0, 1, 1, 0, 1, 2, 2, 0, 1, 2, 2, 0, 2, 0, 2, 2, 2, 1, 2, 1, 1, 1, 1, 0, 1, 1, 0, 1, 2]).all()\r\n",
        "assert (y_test_pred_pp == [1, 0, 2, 1, 2, 0, 1, 2, 1, 1, 2, 0, 0, 0, 0]).all()"
      ],
      "execution_count": null,
      "outputs": []
    },
    {
      "cell_type": "code",
      "metadata": {
        "colab": {
          "base_uri": "https://localhost:8080/"
        },
        "id": "OTYn1VQSfzIs",
        "outputId": "cabef238-5508-4c85-ea3d-f130223e5606"
      },
      "source": [
        "# evaluate prediction accuracy\r\n",
        "print('[+] For K-means:')\r\n",
        "train_score = np.sum(y_train_pred == y_train)\r\n",
        "print(f'Training accuracy: {train_score / len(y_train) * 100:.4f}% ({train_score}/{len(y_train)})')\r\n",
        "train_score = np.sum(y_test_pred == y_test)\r\n",
        "print(f'Training accuracy: {train_score / len(y_test) * 100:.4f}% ({train_score}/{len(y_test)})')\r\n",
        "print('[+] For K-means++:')\r\n",
        "train_score = np.sum(y_train_pred_pp == y_train)\r\n",
        "print(f'Training accuracy: {train_score / len(y_train) * 100:.4f}% ({train_score}/{len(y_train)})')\r\n",
        "train_score = np.sum(y_test_pred_pp == y_test)\r\n",
        "print(f'Training accuracy: {train_score / len(y_test) * 100:.4f}% ({train_score}/{len(y_test)})')\r\n"
      ],
      "execution_count": null,
      "outputs": [
        {
          "output_type": "stream",
          "text": [
            "[+] For K-means:\n",
            "Training accuracy: 82.9630% (112/135)\n",
            "Training accuracy: 93.3333% (14/15)\n",
            "[+] For K-means++:\n",
            "Training accuracy: 80.0000% (108/135)\n",
            "Training accuracy: 93.3333% (14/15)\n"
          ],
          "name": "stdout"
        }
      ]
    },
    {
      "cell_type": "code",
      "metadata": {
        "colab": {
          "base_uri": "https://localhost:8080/",
          "height": 607
        },
        "id": "4NTSpDu4f5rz",
        "outputId": "6f0ec52c-ac51-4ea3-c2d7-2af9d494b5f0"
      },
      "source": [
        "# and plot out confusion matrix\r\n",
        "from sklearn.metrics import confusion_matrix\r\n",
        "import matplotlib.pyplot as plt\r\n",
        "import seaborn as sn\r\n",
        "\r\n",
        "plt.figure(figsize=(10,10))\r\n",
        "fig = plt.subplot(2, 2, 1)\r\n",
        "sn.heatmap(confusion_matrix(y_train, y_train_pred), annot=True, cbar=False, square=True, linewidths=0.5)\r\n",
        "fig.set_title('K-means, train set')\r\n",
        "\r\n",
        "fig = plt.subplot(2, 2, 2)\r\n",
        "sn.heatmap(confusion_matrix(y_test, y_test_pred), annot=True, cbar=False, square=True, linewidths=0.5)\r\n",
        "fig.set_title('K-means, test set')\r\n",
        "\r\n",
        "fig = plt.subplot(2, 2, 3)\r\n",
        "sn.heatmap(confusion_matrix(y_train, y_train_pred_pp), annot=True, cbar=False, square=True, linewidths=0.5)\r\n",
        "fig.set_title('K-means++, train set')\r\n",
        "\r\n",
        "fig = plt.subplot(2, 2, 4)\r\n",
        "sn.heatmap(confusion_matrix(y_test, y_test_pred_pp), annot=True, cbar=False, square=True, linewidths=0.5)\r\n",
        "fig.set_title('K-means++, test set');"
      ],
      "execution_count": null,
      "outputs": [
        {
          "output_type": "display_data",
          "data": {
            "image/png": "[encoded data removed]",
            "text/plain": [
              "<Figure size 720x720 with 4 Axes>"
            ]
          },
          "metadata": {
            "tags": [],
            "needs_background": "light"
          }
        }
      ]
    }
  ]
}